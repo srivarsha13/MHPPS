{
 "cells": [
  {
   "attachments": {},
   "cell_type": "markdown",
   "metadata": {},
   "source": [
    "### Creating Dataset"
   ]
  },
  {
   "cell_type": "code",
   "execution_count": 11,
   "metadata": {},
   "outputs": [],
   "source": [
    "import os\n",
    "from pydub import AudioSegment, silence\n",
    "import mutagen\n",
    "from mutagen.wave import WAVE\n",
    "import pandas as pd"
   ]
  },
  {
   "cell_type": "code",
   "execution_count": 18,
   "metadata": {},
   "outputs": [],
   "source": [
    "# Conversion to WAVE format\n",
    "for inp_file in os.listdir(r'C:\\\\FinalYearProject\\\\Audio Analysis Module\\\\Dataset'):\n",
    "    is_file=True\n",
    "    out_file = \"Dataset/WAVE_Files/\" + os.path.splitext(inp_file)[0] + \".wav\"\n",
    "    if inp_file.endswith(\".mp3\"): \n",
    "        sound = AudioSegment.from_mp3(\"Dataset/\" + inp_file)\n",
    "    elif inp_file.endswith(\".ogg\"):\n",
    "        sound = AudioSegment.from_ogg(\"Dataset/\" + inp_file)\n",
    "    else:\n",
    "        is_file=False\n",
    "    if is_file:\n",
    "        sound.export(out_file, format=\"wav\")"
   ]
  },
  {
   "cell_type": "code",
   "execution_count": null,
   "metadata": {},
   "outputs": [],
   "source": [
    "# Generating CSV file\n",
    "info = {'file': [],\n",
    "        'total_duration': [],\n",
    "        'num_pauses' : [],\n",
    "        'total_silence' : [],\n",
    "        'personality' : []}\n",
    "\n",
    "#print(\"file\\ttotal_dur\\tnum_pauses\\ttotal_silence\\tconfidence\")\n",
    "\n",
    "for i in range(1, 105):\n",
    "    file = \"Dataset/WAVE_Files\" + str(i) + \".wav\"\n",
    "    audio = WAVE(file)\n",
    "    audio_info = audio.info\n",
    "    total_duration = audio_info.length\n",
    "\n",
    "    audio = AudioSegment.from_wav(file)\n",
    "    dBFS = audio.dBFS\n",
    "    silent_sections = silence.detect_silence(audio, min_silence_len=250, silence_thresh=dBFS-16)\n",
    "    num_pauses=0\n",
    "    total_duration_of_pauses = 0\n",
    "\n",
    "    for start, stop in silent_sections:\n",
    "        num_pauses+=1\n",
    "        total_duration_of_pauses+=(stop/1000-start/1000)\n",
    "\n",
    "    conf_pred=\"Confident\"\n",
    "    if(round(total_duration_of_pauses*100/total_duration,2)>20.00):\n",
    "        conf_pred=\"Not Confident\"\n",
    "\n",
    "    info['file'].append(str(i)+\".wav\")\n",
    "    info['total_duration'].append(round(total_duration,2))\n",
    "    info['num_pauses'].append(num_pauses)\n",
    "    info['total_silence'].append(round(total_duration_of_pauses,2))\n",
    "    info['personality'].append(conf_pred)\n",
    "\n",
    "df = pd.DataFrame(info)\n",
    "df\n",
    "csv_data = df.to_csv(\"data.csv\", index=False)"
   ]
  },
  {
   "attachments": {},
   "cell_type": "markdown",
   "metadata": {},
   "source": [
    "### Building SVM Model"
   ]
  },
  {
   "cell_type": "code",
   "execution_count": 4,
   "metadata": {},
   "outputs": [],
   "source": [
    "import numpy as np\n",
    "from sklearn.svm import SVC\n",
    "from sklearn.model_selection import train_test_split\n",
    "from sklearn.metrics import accuracy_score"
   ]
  },
  {
   "cell_type": "code",
   "execution_count": 6,
   "metadata": {},
   "outputs": [
    {
     "name": "stdout",
     "output_type": "stream",
     "text": [
      "1.0\n"
     ]
    }
   ],
   "source": [
    "df = pd.read_csv('data.csv')\n",
    "\n",
    "X = df[['total_duration', 'num_pauses', 'total_silence']]\n",
    "Y = df['personality']\n",
    "\n",
    "X_train, X_test, Y_train, Y_test = train_test_split(X, Y, random_state=104, test_size=0.20, shuffle=True)\n",
    "\n",
    "svm_model = SVC(kernel='linear')\n",
    "svm_model.fit(X_train, Y_train)\n",
    "\n",
    "pred = svm_model.predict(X_test)\n",
    "print(accuracy_score(Y_test, pred))"
   ]
  },
  {
   "cell_type": "code",
   "execution_count": 10,
   "metadata": {},
   "outputs": [
    {
     "name": "stdout",
     "output_type": "stream",
     "text": [
      "11.mp3\n",
      "15.mp3\n",
      "16.mp3\n",
      "17.mp3\n",
      "18.mp3\n",
      "19.mp3\n",
      "2.mp3\n",
      "20.mp3\n",
      "21.mp3\n",
      "23.mp3\n",
      "24.mp3\n",
      "25.mp3\n",
      "26.mp3\n"
     ]
    }
   ],
   "source": [
    "for file in os.listdir(r'C:\\\\FinalYearProject\\\\Audio Analysis Module\\\\Dataset'):\n",
    "    if file.endswith(\".mp3\"): \n",
    "        print(file)"
   ]
  },
  {
   "attachments": {},
   "cell_type": "markdown",
   "metadata": {},
   "source": [
    "### Confidence Prediction from Audio File"
   ]
  },
  {
   "cell_type": "code",
   "execution_count": null,
   "metadata": {},
   "outputs": [],
   "source": []
  }
 ],
 "metadata": {
  "kernelspec": {
   "display_name": "Python 3",
   "language": "python",
   "name": "python3"
  },
  "language_info": {
   "codemirror_mode": {
    "name": "ipython",
    "version": 3
   },
   "file_extension": ".py",
   "mimetype": "text/x-python",
   "name": "python",
   "nbconvert_exporter": "python",
   "pygments_lexer": "ipython3",
   "version": "3.10.6"
  },
  "orig_nbformat": 4
 },
 "nbformat": 4,
 "nbformat_minor": 2
}
