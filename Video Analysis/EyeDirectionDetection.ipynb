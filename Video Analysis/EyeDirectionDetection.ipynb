{
 "cells": [
  {
   "attachments": {},
   "cell_type": "markdown",
   "metadata": {},
   "source": [
    "### Eye Direction Detection from Image"
   ]
  },
  {
   "cell_type": "code",
   "execution_count": 1,
   "metadata": {},
   "outputs": [],
   "source": [
    "import matlab.engine"
   ]
  },
  {
   "cell_type": "code",
   "execution_count": 10,
   "metadata": {},
   "outputs": [
    {
     "name": "stdout",
     "output_type": "stream",
     "text": [
      "Eye Direction : Right\n"
     ]
    }
   ],
   "source": [
    "engine = matlab.engine.start_matlab()\n",
    "\n",
    "dir = engine.get_eye_dir(\"test_images_edd/test_img_2.jpg\")\n",
    "print(\"Eye Direction : \"+dir.title())"
   ]
  },
  {
   "attachments": {},
   "cell_type": "markdown",
   "metadata": {},
   "source": [
    "### Eye Direction Detection from Video"
   ]
  },
  {
   "cell_type": "code",
   "execution_count": 9,
   "metadata": {},
   "outputs": [
    {
     "name": "stdout",
     "output_type": "stream",
     "text": [
      "Eye Direction : Straight\n"
     ]
    }
   ],
   "source": [
    "import cv2\n",
    "import os\n",
    "import time\n",
    "\n",
    "# Read the video from specified path\n",
    "cam = cv2.VideoCapture(\"C:/FinalYearProject/Video Analysis Module/test_videos_edd/test_video_1.mp4\")\n",
    "\n",
    "try :\n",
    "\n",
    "    if not os.path.exists(\"output_edd\"):\n",
    "        os.makedirs(\"output_edd\")\n",
    "\n",
    "except OSError:\n",
    "    print(\"Error creating directory\")\n",
    "\n",
    "\n",
    "frame_cur = 0\n",
    "frames_per_second = cam.get(cv2.CAP_PROP_FPS) \n",
    "frames_captured = 0\n",
    "step = 1\n",
    "frame_count = 5\n",
    "\n",
    "dir_arr=[]\n",
    "\n",
    "while (True):\n",
    "    ret, frame = cam.read()\n",
    "    if ret:\n",
    "        if frame_cur > (step*frames_per_second):  \n",
    "            frame_cur = 0\n",
    "            name = 'output_edd/fr' + str(frames_captured+1) + '.jpg'\n",
    "            # print(name)\n",
    "            cv2.imwrite(name, frame)\n",
    "            dir_arr+=[str(engine.get_eye_dir(name))]            \n",
    "            frames_captured+=1\n",
    "            if frames_captured>frame_count-1:\n",
    "                ret = False\n",
    "        frame_cur += 1           \n",
    "    if ret==False:\n",
    "        break\n",
    "\n",
    "# Result/Output\n",
    "# print(dir_arr)\n",
    "print(\"Eye Direction : \" + max(set(dir_arr), key = dir_arr.count).title())\n",
    "\n",
    "# Release space once done\n",
    "cam.release()\n",
    "cv2.destroyAllWindows()"
   ]
  }
 ],
 "metadata": {
  "kernelspec": {
   "display_name": "Python 3",
   "language": "python",
   "name": "python3"
  },
  "language_info": {
   "codemirror_mode": {
    "name": "ipython",
    "version": 3
   },
   "file_extension": ".py",
   "mimetype": "text/x-python",
   "name": "python",
   "nbconvert_exporter": "python",
   "pygments_lexer": "ipython3",
   "version": "3.10.6"
  },
  "orig_nbformat": 4
 },
 "nbformat": 4,
 "nbformat_minor": 2
}
