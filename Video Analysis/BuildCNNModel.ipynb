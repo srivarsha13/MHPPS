{
 "cells": [
  {
   "attachments": {},
   "cell_type": "markdown",
   "metadata": {
    "papermill": {
     "duration": 0.020682,
     "end_time": "2020-10-08T08:21:31.277478",
     "exception": false,
     "start_time": "2020-10-08T08:21:31.256796",
     "status": "completed"
    },
    "tags": []
   },
   "source": [
    "## Facial Emotion Recognition"
   ]
  },
  {
   "attachments": {},
   "cell_type": "markdown",
   "metadata": {
    "papermill": {
     "duration": 0.018517,
     "end_time": "2020-10-08T08:21:31.315915",
     "exception": false,
     "start_time": "2020-10-08T08:21:31.297398",
     "status": "completed"
    },
    "tags": []
   },
   "source": [
    "### Importing libraries"
   ]
  },
  {
   "cell_type": "code",
   "execution_count": 2,
   "metadata": {
    "_cell_guid": "79c7e3d0-c299-4dcb-8224-4455121ee9b0",
    "_uuid": "d629ff2d2480ee46fbb7e2d37f6b5fab8052498a",
    "execution": {
     "iopub.execute_input": "2020-10-08T08:21:31.362590Z",
     "iopub.status.busy": "2020-10-08T08:21:31.361789Z",
     "iopub.status.idle": "2020-10-08T08:21:36.655156Z",
     "shell.execute_reply": "2020-10-08T08:21:36.655769Z"
    },
    "papermill": {
     "duration": 5.320742,
     "end_time": "2020-10-08T08:21:36.655995",
     "exception": false,
     "start_time": "2020-10-08T08:21:31.335253",
     "status": "completed"
    },
    "tags": []
   },
   "outputs": [],
   "source": [
    "import numpy as np\n",
    "import pandas as pd\n",
    "import os\n",
    "import tensorflow as tf\n",
    "from keras.preprocessing.image import ImageDataGenerator\n",
    "from keras.layers import Conv2D, Dense, BatchNormalization, Activation, Dropout, MaxPooling2D, Flatten\n",
    "from keras.optimizers import Adam\n",
    "from keras import regularizers\n",
    "from keras.callbacks import ModelCheckpoint, CSVLogger, EarlyStopping, ReduceLROnPlateau\n",
    "from keras.models import load_model"
   ]
  },
  {
   "attachments": {},
   "cell_type": "markdown",
   "metadata": {
    "papermill": {
     "duration": 0.030612,
     "end_time": "2020-10-08T08:21:36.728766",
     "exception": false,
     "start_time": "2020-10-08T08:21:36.698154",
     "status": "completed"
    },
    "tags": []
   },
   "source": [
    "### Importing Dataset"
   ]
  },
  {
   "cell_type": "code",
   "execution_count": 3,
   "metadata": {
    "execution": {
     "iopub.execute_input": "2020-10-08T08:21:36.803496Z",
     "iopub.status.busy": "2020-10-08T08:21:36.802537Z",
     "iopub.status.idle": "2020-10-08T08:21:37.272572Z",
     "shell.execute_reply": "2020-10-08T08:21:37.274101Z"
    },
    "papermill": {
     "duration": 0.514189,
     "end_time": "2020-10-08T08:21:37.274335",
     "exception": false,
     "start_time": "2020-10-08T08:21:36.760146",
     "status": "completed"
    },
    "tags": []
   },
   "outputs": [
    {
     "name": "stdout",
     "output_type": "stream",
     "text": [
      "       angry  disgust  fear  happy  neutral   sad  surprise\n",
      "train   3995      436  4097   7215     4965  4830      3171\n",
      "      angry  disgust  fear  happy  neutral   sad  surprise\n",
      "test    958      111  1024   1774     1233  1247       831\n"
     ]
    }
   ],
   "source": [
    "train_dir = 'Dataset/train/'\n",
    "test_dir = 'Dataset/test/'\n",
    "\n",
    "row, col = 48, 48\n",
    "classes = 7\n",
    "\n",
    "def count_exp(path, set_):\n",
    "    dict_ = {}\n",
    "    for expression in os.listdir(path):\n",
    "        dir_ = path + expression\n",
    "        dict_[expression] = len(os.listdir(dir_))\n",
    "    df = pd.DataFrame(dict_, index=[set_])\n",
    "    return df\n",
    "train_count = count_exp(train_dir, 'train')\n",
    "test_count = count_exp(test_dir, 'test')\n",
    "print(train_count)\n",
    "print(test_count)"
   ]
  },
  {
   "attachments": {},
   "cell_type": "markdown",
   "metadata": {
    "papermill": {
     "duration": 0.024558,
     "end_time": "2020-10-08T08:21:38.457547",
     "exception": false,
     "start_time": "2020-10-08T08:21:38.432989",
     "status": "completed"
    },
    "tags": []
   },
   "source": [
    "### Creating Training and Test Sets"
   ]
  },
  {
   "cell_type": "code",
   "execution_count": 4,
   "metadata": {
    "execution": {
     "iopub.execute_input": "2020-10-08T08:21:38.515057Z",
     "iopub.status.busy": "2020-10-08T08:21:38.514279Z",
     "iopub.status.idle": "2020-10-08T08:21:44.499528Z",
     "shell.execute_reply": "2020-10-08T08:21:44.499002Z"
    },
    "papermill": {
     "duration": 6.016879,
     "end_time": "2020-10-08T08:21:44.499643",
     "exception": false,
     "start_time": "2020-10-08T08:21:38.482764",
     "status": "completed"
    },
    "tags": []
   },
   "outputs": [
    {
     "name": "stdout",
     "output_type": "stream",
     "text": [
      "Found 28709 images belonging to 7 classes.\n",
      "Found 7178 images belonging to 7 classes.\n"
     ]
    }
   ],
   "source": [
    "train_datagen = ImageDataGenerator(rescale=1./255, zoom_range=0.3, horizontal_flip=True)\n",
    "training_set = train_datagen.flow_from_directory(train_dir,\n",
    "                                                batch_size=64,\n",
    "                                                target_size=(48,48),\n",
    "                                                shuffle=True,\n",
    "                                                color_mode='grayscale',\n",
    "                                                class_mode='categorical')\n",
    "\n",
    "test_datagen = ImageDataGenerator(rescale=1./255)\n",
    "test_set = test_datagen.flow_from_directory(test_dir,\n",
    "                                                batch_size=64,\n",
    "                                                target_size=(48,48),\n",
    "                                                shuffle=True,\n",
    "                                                color_mode='grayscale',\n",
    "                                                class_mode='categorical')"
   ]
  },
  {
   "cell_type": "code",
   "execution_count": 5,
   "metadata": {
    "execution": {
     "iopub.execute_input": "2020-10-08T08:21:44.557938Z",
     "iopub.status.busy": "2020-10-08T08:21:44.557063Z",
     "iopub.status.idle": "2020-10-08T08:21:44.561222Z",
     "shell.execute_reply": "2020-10-08T08:21:44.560739Z"
    },
    "papermill": {
     "duration": 0.03518,
     "end_time": "2020-10-08T08:21:44.561327",
     "exception": false,
     "start_time": "2020-10-08T08:21:44.526147",
     "status": "completed"
    },
    "tags": []
   },
   "outputs": [
    {
     "data": {
      "text/plain": [
       "{'angry': 0,\n",
       " 'disgust': 1,\n",
       " 'fear': 2,\n",
       " 'happy': 3,\n",
       " 'neutral': 4,\n",
       " 'sad': 5,\n",
       " 'surprise': 6}"
      ]
     },
     "execution_count": 5,
     "metadata": {},
     "output_type": "execute_result"
    }
   ],
   "source": [
    "training_set.class_indices"
   ]
  },
  {
   "attachments": {},
   "cell_type": "markdown",
   "metadata": {
    "papermill": {
     "duration": 0.025515,
     "end_time": "2020-10-08T08:21:44.612280",
     "exception": false,
     "start_time": "2020-10-08T08:21:44.586765",
     "status": "completed"
    },
    "tags": []
   },
   "source": [
    "### Defining Model"
   ]
  },
  {
   "cell_type": "code",
   "execution_count": 6,
   "metadata": {
    "execution": {
     "iopub.execute_input": "2020-10-08T08:21:44.681352Z",
     "iopub.status.busy": "2020-10-08T08:21:44.680378Z",
     "iopub.status.idle": "2020-10-08T08:21:44.683419Z",
     "shell.execute_reply": "2020-10-08T08:21:44.682923Z"
    },
    "papermill": {
     "duration": 0.045419,
     "end_time": "2020-10-08T08:21:44.683519",
     "exception": false,
     "start_time": "2020-10-08T08:21:44.638100",
     "status": "completed"
    },
    "tags": []
   },
   "outputs": [],
   "source": [
    "def get_model(input_size, classes=7):\n",
    "    \n",
    "    # Initialising the CNN\n",
    "    model = tf.keras.models.Sequential()   \n",
    "\n",
    "    model.add(Conv2D(32, kernel_size=(3, 3), padding='same', activation='relu', input_shape =input_size))\n",
    "    model.add(Conv2D(64, kernel_size=(3, 3), activation='relu', padding='same'))\n",
    "    model.add(BatchNormalization())\n",
    "    model.add(MaxPooling2D(2, 2))\n",
    "    model.add(Dropout(0.25))\n",
    "\n",
    "    model.add(Conv2D(128, kernel_size=(3, 3), activation='relu', padding='same', kernel_regularizer=regularizers.l2(0.01)))\n",
    "    model.add(Conv2D(256, kernel_size=(3, 3), activation='relu', kernel_regularizer=regularizers.l2(0.01)))\n",
    "    model.add(BatchNormalization())\n",
    "    model.add(MaxPooling2D(pool_size=(2, 2)))\n",
    "    model.add(Dropout(0.25))\n",
    "\n",
    "    model.add(Flatten())\n",
    "    model.add(Dense(1024, activation='relu'))\n",
    "    model.add(Dropout(0.5))\n",
    "    \n",
    "    model.add(Dense(classes, activation='softmax'))\n",
    "\n",
    "    #Compliling the model\n",
    "    model.compile(optimizer=Adam(lr=0.0001, decay=1e-6), \n",
    "                  loss='categorical_crossentropy', \n",
    "                  metrics=['accuracy'])\n",
    "    \n",
    "    return model"
   ]
  },
  {
   "cell_type": "code",
   "execution_count": 7,
   "metadata": {
    "execution": {
     "iopub.execute_input": "2020-10-08T08:21:44.739574Z",
     "iopub.status.busy": "2020-10-08T08:21:44.739015Z",
     "iopub.status.idle": "2020-10-08T08:21:47.890481Z",
     "shell.execute_reply": "2020-10-08T08:21:47.891521Z"
    },
    "papermill": {
     "duration": 3.182246,
     "end_time": "2020-10-08T08:21:47.891700",
     "exception": false,
     "start_time": "2020-10-08T08:21:44.709454",
     "status": "completed"
    },
    "tags": []
   },
   "outputs": [
    {
     "name": "stdout",
     "output_type": "stream",
     "text": [
      "Model: \"sequential\"\n",
      "_________________________________________________________________\n",
      " Layer (type)                Output Shape              Param #   \n",
      "=================================================================\n",
      " conv2d (Conv2D)             (None, 48, 48, 32)        320       \n",
      "                                                                 \n",
      " conv2d_1 (Conv2D)           (None, 48, 48, 64)        18496     \n",
      "                                                                 \n",
      " batch_normalization (BatchN  (None, 48, 48, 64)       256       \n",
      " ormalization)                                                   \n",
      "                                                                 \n",
      " max_pooling2d (MaxPooling2D  (None, 24, 24, 64)       0         \n",
      " )                                                               \n",
      "                                                                 \n",
      " dropout (Dropout)           (None, 24, 24, 64)        0         \n",
      "                                                                 \n",
      " conv2d_2 (Conv2D)           (None, 24, 24, 128)       73856     \n",
      "                                                                 \n",
      " conv2d_3 (Conv2D)           (None, 22, 22, 256)       295168    \n",
      "                                                                 \n",
      " batch_normalization_1 (Batc  (None, 22, 22, 256)      1024      \n",
      " hNormalization)                                                 \n",
      "                                                                 \n",
      " max_pooling2d_1 (MaxPooling  (None, 11, 11, 256)      0         \n",
      " 2D)                                                             \n",
      "                                                                 \n",
      " dropout_1 (Dropout)         (None, 11, 11, 256)       0         \n",
      "                                                                 \n",
      " flatten (Flatten)           (None, 30976)             0         \n",
      "                                                                 \n",
      " dense (Dense)               (None, 1024)              31720448  \n",
      "                                                                 \n",
      " dropout_2 (Dropout)         (None, 1024)              0         \n",
      "                                                                 \n",
      " dense_1 (Dense)             (None, 7)                 7175      \n",
      "                                                                 \n",
      "=================================================================\n",
      "Total params: 32,116,743\n",
      "Trainable params: 32,116,103\n",
      "Non-trainable params: 640\n",
      "_________________________________________________________________\n"
     ]
    },
    {
     "name": "stderr",
     "output_type": "stream",
     "text": [
      "c:\\Users\\Admin\\AppData\\Local\\Programs\\Python\\Python310\\lib\\site-packages\\keras\\optimizers\\optimizer_v2\\adam.py:114: UserWarning: The `lr` argument is deprecated, use `learning_rate` instead.\n",
      "  super().__init__(name, **kwargs)\n"
     ]
    }
   ],
   "source": [
    "cnn_model = get_model((row,col,1), classes)\n",
    "cnn_model.summary()"
   ]
  },
  {
   "attachments": {},
   "cell_type": "markdown",
   "metadata": {
    "papermill": {
     "duration": 0.029258,
     "end_time": "2020-10-08T08:21:48.625790",
     "exception": false,
     "start_time": "2020-10-08T08:21:48.596532",
     "status": "completed"
    },
    "tags": []
   },
   "source": [
    "### Callback Functions"
   ]
  },
  {
   "cell_type": "code",
   "execution_count": 9,
   "metadata": {
    "execution": {
     "iopub.execute_input": "2020-10-08T08:21:48.703810Z",
     "iopub.status.busy": "2020-10-08T08:21:48.693330Z",
     "iopub.status.idle": "2020-10-08T08:21:48.707208Z",
     "shell.execute_reply": "2020-10-08T08:21:48.706632Z"
    },
    "papermill": {
     "duration": 0.052448,
     "end_time": "2020-10-08T08:21:48.707331",
     "exception": false,
     "start_time": "2020-10-08T08:21:48.654883",
     "status": "completed"
    },
    "tags": []
   },
   "outputs": [],
   "source": [
    "chk_path = 'src/fer/data/emotion_model.h5'\n",
    "# log_dir = \"checkpoint/logs/\" + datetime.datetime.now().strftime(\"%Y%m%d-%H%M%S\")\n",
    "\n",
    "checkpoint = ModelCheckpoint(filepath=chk_path,\n",
    "                             save_best_only=True,\n",
    "                             verbose=1,\n",
    "                             mode='min',\n",
    "                             moniter='val_loss')\n",
    "\n",
    "earlystop = EarlyStopping(monitor='val_loss', \n",
    "                          min_delta=0, \n",
    "                          patience=3, \n",
    "                          verbose=1, \n",
    "                          restore_best_weights=True)\n",
    "                        \n",
    "reduce_lr = ReduceLROnPlateau(monitor='val_loss', \n",
    "                              factor=0.2, \n",
    "                              patience=6, \n",
    "                              verbose=1, \n",
    "                              min_delta=0.0001)\n",
    "\n",
    "\n",
    "# tensorboard_callback = tf.keras.callbacks.TensorBoard(log_dir=log_dir, histogram_freq=1)\n",
    "csv_logger = CSVLogger('training.log')\n",
    "\n",
    "callbacks = [checkpoint, reduce_lr, csv_logger]"
   ]
  },
  {
   "attachments": {},
   "cell_type": "markdown",
   "metadata": {
    "papermill": {
     "duration": 0.029194,
     "end_time": "2020-10-08T08:21:48.768485",
     "exception": false,
     "start_time": "2020-10-08T08:21:48.739291",
     "status": "completed"
    },
    "tags": []
   },
   "source": [
    "### Training Model"
   ]
  },
  {
   "cell_type": "code",
   "execution_count": 12,
   "metadata": {
    "execution": {
     "iopub.execute_input": "2020-10-08T08:21:48.836175Z",
     "iopub.status.busy": "2020-10-08T08:21:48.835472Z",
     "iopub.status.idle": "2020-10-08T09:03:29.511581Z",
     "shell.execute_reply": "2020-10-08T09:03:29.510961Z"
    },
    "papermill": {
     "duration": 2500.711354,
     "end_time": "2020-10-08T09:03:29.511710",
     "exception": false,
     "start_time": "2020-10-08T08:21:48.800356",
     "status": "completed"
    },
    "tags": []
   },
   "outputs": [
    {
     "name": "stdout",
     "output_type": "stream",
     "text": [
      "Epoch 1/60\n",
      "448/448 [==============================] - ETA: 0s - loss: 3.2977 - accuracy: 0.3479\n",
      "Epoch 1: val_loss improved from inf to 2.95488, saving model to src/fer/data\\emotion_model.h5\n",
      "448/448 [==============================] - 1283s 3s/step - loss: 3.2977 - accuracy: 0.3479 - val_loss: 2.9549 - val_accuracy: 0.4076 - lr: 1.0000e-04\n",
      "Epoch 2/60\n",
      "448/448 [==============================] - ETA: 0s - loss: 2.8026 - accuracy: 0.3763\n",
      "Epoch 2: val_loss improved from 2.95488 to 2.46714, saving model to src/fer/data\\emotion_model.h5\n",
      "448/448 [==============================] - 1090s 2s/step - loss: 2.8026 - accuracy: 0.3763 - val_loss: 2.4671 - val_accuracy: 0.4452 - lr: 1.0000e-04\n",
      "Epoch 3/60\n",
      "448/448 [==============================] - ETA: 0s - loss: 2.4202 - accuracy: 0.4098\n",
      "Epoch 3: val_loss improved from 2.46714 to 2.25871, saving model to src/fer/data\\emotion_model.h5\n",
      "448/448 [==============================] - 993s 2s/step - loss: 2.4202 - accuracy: 0.4098 - val_loss: 2.2587 - val_accuracy: 0.4241 - lr: 1.0000e-04\n",
      "Epoch 4/60\n",
      "448/448 [==============================] - ETA: 0s - loss: 2.1278 - accuracy: 0.4339\n",
      "Epoch 4: val_loss improved from 2.25871 to 1.90905, saving model to src/fer/data\\emotion_model.h5\n",
      "448/448 [==============================] - 991s 2s/step - loss: 2.1278 - accuracy: 0.4339 - val_loss: 1.9091 - val_accuracy: 0.4791 - lr: 1.0000e-04\n",
      "Epoch 5/60\n",
      "448/448 [==============================] - ETA: 0s - loss: 1.9127 - accuracy: 0.4577\n",
      "Epoch 5: val_loss improved from 1.90905 to 1.73873, saving model to src/fer/data\\emotion_model.h5\n",
      "448/448 [==============================] - 865s 2s/step - loss: 1.9127 - accuracy: 0.4577 - val_loss: 1.7387 - val_accuracy: 0.4891 - lr: 1.0000e-04\n",
      "Epoch 6/60\n",
      "448/448 [==============================] - ETA: 0s - loss: 1.7453 - accuracy: 0.4737\n",
      "Epoch 6: val_loss improved from 1.73873 to 1.59891, saving model to src/fer/data\\emotion_model.h5\n",
      "448/448 [==============================] - 879s 2s/step - loss: 1.7453 - accuracy: 0.4737 - val_loss: 1.5989 - val_accuracy: 0.5067 - lr: 1.0000e-04\n",
      "Epoch 7/60\n",
      "448/448 [==============================] - ETA: 0s - loss: 1.6173 - accuracy: 0.4897\n",
      "Epoch 7: val_loss improved from 1.59891 to 1.45760, saving model to src/fer/data\\emotion_model.h5\n",
      "448/448 [==============================] - 887s 2s/step - loss: 1.6173 - accuracy: 0.4897 - val_loss: 1.4576 - val_accuracy: 0.5357 - lr: 1.0000e-04\n",
      "Epoch 8/60\n",
      "448/448 [==============================] - ETA: 0s - loss: 1.5166 - accuracy: 0.5073\n",
      "Epoch 8: val_loss improved from 1.45760 to 1.38690, saving model to src/fer/data\\emotion_model.h5\n",
      "448/448 [==============================] - 1039s 2s/step - loss: 1.5166 - accuracy: 0.5073 - val_loss: 1.3869 - val_accuracy: 0.5501 - lr: 1.0000e-04\n",
      "Epoch 9/60\n",
      "448/448 [==============================] - ETA: 0s - loss: 1.4311 - accuracy: 0.5284\n",
      "Epoch 9: val_loss improved from 1.38690 to 1.30883, saving model to src/fer/data\\emotion_model.h5\n",
      "448/448 [==============================] - 1075s 2s/step - loss: 1.4311 - accuracy: 0.5284 - val_loss: 1.3088 - val_accuracy: 0.5657 - lr: 1.0000e-04\n",
      "Epoch 10/60\n",
      "448/448 [==============================] - ETA: 0s - loss: 1.3649 - accuracy: 0.5411\n",
      "Epoch 10: val_loss improved from 1.30883 to 1.27797, saving model to src/fer/data\\emotion_model.h5\n",
      "448/448 [==============================] - 915s 2s/step - loss: 1.3649 - accuracy: 0.5411 - val_loss: 1.2780 - val_accuracy: 0.5698 - lr: 1.0000e-04\n",
      "Epoch 11/60\n",
      "448/448 [==============================] - ETA: 0s - loss: 1.3179 - accuracy: 0.5562\n",
      "Epoch 11: val_loss improved from 1.27797 to 1.27472, saving model to src/fer/data\\emotion_model.h5\n",
      "448/448 [==============================] - 975s 2s/step - loss: 1.3179 - accuracy: 0.5562 - val_loss: 1.2747 - val_accuracy: 0.5681 - lr: 1.0000e-04\n",
      "Epoch 12/60\n",
      "448/448 [==============================] - ETA: 0s - loss: 1.2660 - accuracy: 0.5710\n",
      "Epoch 12: val_loss improved from 1.27472 to 1.20348, saving model to src/fer/data\\emotion_model.h5\n",
      "448/448 [==============================] - 954s 2s/step - loss: 1.2660 - accuracy: 0.5710 - val_loss: 1.2035 - val_accuracy: 0.5875 - lr: 1.0000e-04\n",
      "Epoch 13/60\n",
      "448/448 [==============================] - ETA: 0s - loss: 1.2246 - accuracy: 0.5794\n",
      "Epoch 13: val_loss did not improve from 1.20348\n",
      "448/448 [==============================] - 849s 2s/step - loss: 1.2246 - accuracy: 0.5794 - val_loss: 1.2168 - val_accuracy: 0.5915 - lr: 1.0000e-04\n",
      "Epoch 14/60\n",
      "448/448 [==============================] - ETA: 0s - loss: 1.1923 - accuracy: 0.5901\n",
      "Epoch 14: val_loss improved from 1.20348 to 1.17608, saving model to src/fer/data\\emotion_model.h5\n",
      "448/448 [==============================] - 910s 2s/step - loss: 1.1923 - accuracy: 0.5901 - val_loss: 1.1761 - val_accuracy: 0.5922 - lr: 1.0000e-04\n",
      "Epoch 15/60\n",
      "448/448 [==============================] - ETA: 0s - loss: 1.1536 - accuracy: 0.6052\n",
      "Epoch 15: val_loss improved from 1.17608 to 1.17220, saving model to src/fer/data\\emotion_model.h5\n",
      "448/448 [==============================] - 1158s 3s/step - loss: 1.1536 - accuracy: 0.6052 - val_loss: 1.1722 - val_accuracy: 0.5996 - lr: 1.0000e-04\n",
      "Epoch 16/60\n",
      "448/448 [==============================] - ETA: 0s - loss: 1.1327 - accuracy: 0.6142\n",
      "Epoch 16: val_loss improved from 1.17220 to 1.16337, saving model to src/fer/data\\emotion_model.h5\n",
      "448/448 [==============================] - 1223s 3s/step - loss: 1.1327 - accuracy: 0.6142 - val_loss: 1.1634 - val_accuracy: 0.5982 - lr: 1.0000e-04\n",
      "Epoch 17/60\n",
      "448/448 [==============================] - ETA: 0s - loss: 1.1053 - accuracy: 0.6233\n",
      "Epoch 17: val_loss improved from 1.16337 to 1.12702, saving model to src/fer/data\\emotion_model.h5\n",
      "448/448 [==============================] - 1345s 3s/step - loss: 1.1053 - accuracy: 0.6233 - val_loss: 1.1270 - val_accuracy: 0.6143 - lr: 1.0000e-04\n",
      "Epoch 18/60\n",
      "448/448 [==============================] - ETA: 0s - loss: 1.0767 - accuracy: 0.6342\n",
      "Epoch 18: val_loss improved from 1.12702 to 1.12238, saving model to src/fer/data\\emotion_model.h5\n",
      "448/448 [==============================] - 1257s 3s/step - loss: 1.0767 - accuracy: 0.6342 - val_loss: 1.1224 - val_accuracy: 0.6152 - lr: 1.0000e-04\n",
      "Epoch 19/60\n",
      "448/448 [==============================] - ETA: 0s - loss: 1.0505 - accuracy: 0.6418\n",
      "Epoch 19: val_loss did not improve from 1.12238\n",
      "448/448 [==============================] - 927s 2s/step - loss: 1.0505 - accuracy: 0.6418 - val_loss: 1.1444 - val_accuracy: 0.6151 - lr: 1.0000e-04\n",
      "Epoch 20/60\n",
      "448/448 [==============================] - ETA: 0s - loss: 1.0271 - accuracy: 0.6522\n",
      "Epoch 20: val_loss improved from 1.12238 to 1.11083, saving model to src/fer/data\\emotion_model.h5\n",
      "448/448 [==============================] - 1156s 3s/step - loss: 1.0271 - accuracy: 0.6522 - val_loss: 1.1108 - val_accuracy: 0.6217 - lr: 1.0000e-04\n",
      "Epoch 21/60\n",
      "448/448 [==============================] - ETA: 0s - loss: 1.0101 - accuracy: 0.6573\n",
      "Epoch 21: val_loss did not improve from 1.11083\n",
      "448/448 [==============================] - 1108s 2s/step - loss: 1.0101 - accuracy: 0.6573 - val_loss: 1.1275 - val_accuracy: 0.6201 - lr: 1.0000e-04\n",
      "Epoch 22/60\n",
      "448/448 [==============================] - ETA: 0s - loss: 0.9770 - accuracy: 0.6721\n",
      "Epoch 22: val_loss improved from 1.11083 to 1.10896, saving model to src/fer/data\\emotion_model.h5\n",
      "448/448 [==============================] - 948s 2s/step - loss: 0.9770 - accuracy: 0.6721 - val_loss: 1.1090 - val_accuracy: 0.6253 - lr: 1.0000e-04\n",
      "Epoch 23/60\n",
      "448/448 [==============================] - ETA: 0s - loss: 0.9656 - accuracy: 0.6721\n",
      "Epoch 23: val_loss did not improve from 1.10896\n",
      "448/448 [==============================] - 959s 2s/step - loss: 0.9656 - accuracy: 0.6721 - val_loss: 1.1095 - val_accuracy: 0.6274 - lr: 1.0000e-04\n",
      "Epoch 24/60\n",
      "448/448 [==============================] - ETA: 0s - loss: 0.9373 - accuracy: 0.6874\n",
      "Epoch 24: val_loss improved from 1.10896 to 1.09139, saving model to src/fer/data\\emotion_model.h5\n",
      "448/448 [==============================] - 1009s 2s/step - loss: 0.9373 - accuracy: 0.6874 - val_loss: 1.0914 - val_accuracy: 0.6328 - lr: 1.0000e-04\n",
      "Epoch 25/60\n",
      "448/448 [==============================] - ETA: 0s - loss: 0.9219 - accuracy: 0.6942\n",
      "Epoch 25: val_loss improved from 1.09139 to 1.07266, saving model to src/fer/data\\emotion_model.h5\n",
      "448/448 [==============================] - 925s 2s/step - loss: 0.9219 - accuracy: 0.6942 - val_loss: 1.0727 - val_accuracy: 0.6392 - lr: 1.0000e-04\n",
      "Epoch 26/60\n",
      "448/448 [==============================] - ETA: 0s - loss: 0.9024 - accuracy: 0.6987\n",
      "Epoch 26: val_loss did not improve from 1.07266\n",
      "448/448 [==============================] - 833s 2s/step - loss: 0.9024 - accuracy: 0.6987 - val_loss: 1.0989 - val_accuracy: 0.6343 - lr: 1.0000e-04\n",
      "Epoch 27/60\n",
      "448/448 [==============================] - ETA: 0s - loss: 0.8813 - accuracy: 0.7058\n",
      "Epoch 27: val_loss did not improve from 1.07266\n",
      "448/448 [==============================] - 842s 2s/step - loss: 0.8813 - accuracy: 0.7058 - val_loss: 1.0895 - val_accuracy: 0.6328 - lr: 1.0000e-04\n",
      "Epoch 28/60\n",
      "448/448 [==============================] - ETA: 0s - loss: 0.8667 - accuracy: 0.7152\n",
      "Epoch 28: val_loss did not improve from 1.07266\n",
      "448/448 [==============================] - 842s 2s/step - loss: 0.8667 - accuracy: 0.7152 - val_loss: 1.1117 - val_accuracy: 0.6343 - lr: 1.0000e-04\n",
      "Epoch 29/60\n",
      "448/448 [==============================] - ETA: 0s - loss: 0.8435 - accuracy: 0.7212\n",
      "Epoch 29: val_loss did not improve from 1.07266\n",
      "448/448 [==============================] - 1056s 2s/step - loss: 0.8435 - accuracy: 0.7212 - val_loss: 1.0832 - val_accuracy: 0.6456 - lr: 1.0000e-04\n",
      "Epoch 30/60\n",
      "448/448 [==============================] - ETA: 0s - loss: 0.8285 - accuracy: 0.7291\n",
      "Epoch 30: val_loss did not improve from 1.07266\n",
      "448/448 [==============================] - 1069s 2s/step - loss: 0.8285 - accuracy: 0.7291 - val_loss: 1.1286 - val_accuracy: 0.6355 - lr: 1.0000e-04\n",
      "Epoch 31/60\n",
      "448/448 [==============================] - ETA: 0s - loss: 0.8155 - accuracy: 0.7351\n",
      "Epoch 31: val_loss did not improve from 1.07266\n",
      "\n",
      "Epoch 31: ReduceLROnPlateau reducing learning rate to 1.9999999494757503e-05.\n",
      "448/448 [==============================] - 981s 2s/step - loss: 0.8155 - accuracy: 0.7351 - val_loss: 1.0754 - val_accuracy: 0.6470 - lr: 1.0000e-04\n",
      "Epoch 32/60\n",
      "448/448 [==============================] - ETA: 0s - loss: 0.7546 - accuracy: 0.7573\n",
      "Epoch 32: val_loss did not improve from 1.07266\n",
      "448/448 [==============================] - 951s 2s/step - loss: 0.7546 - accuracy: 0.7573 - val_loss: 1.0920 - val_accuracy: 0.6542 - lr: 2.0000e-05\n",
      "Epoch 33/60\n",
      "448/448 [==============================] - ETA: 0s - loss: 0.7280 - accuracy: 0.7659\n",
      "Epoch 33: val_loss did not improve from 1.07266\n",
      "448/448 [==============================] - 890s 2s/step - loss: 0.7280 - accuracy: 0.7659 - val_loss: 1.0913 - val_accuracy: 0.6576 - lr: 2.0000e-05\n",
      "Epoch 34/60\n",
      "448/448 [==============================] - ETA: 0s - loss: 0.7091 - accuracy: 0.7729\n",
      "Epoch 34: val_loss did not improve from 1.07266\n",
      "448/448 [==============================] - 1222s 3s/step - loss: 0.7091 - accuracy: 0.7729 - val_loss: 1.0897 - val_accuracy: 0.6582 - lr: 2.0000e-05\n",
      "Epoch 35/60\n",
      "448/448 [==============================] - ETA: 0s - loss: 0.6928 - accuracy: 0.7807\n",
      "Epoch 35: val_loss did not improve from 1.07266\n",
      "448/448 [==============================] - 1180s 3s/step - loss: 0.6928 - accuracy: 0.7807 - val_loss: 1.1023 - val_accuracy: 0.6576 - lr: 2.0000e-05\n",
      "Epoch 36/60\n",
      "448/448 [==============================] - ETA: 0s - loss: 0.6881 - accuracy: 0.7809\n",
      "Epoch 36: val_loss did not improve from 1.07266\n",
      "448/448 [==============================] - 1030s 2s/step - loss: 0.6881 - accuracy: 0.7809 - val_loss: 1.1026 - val_accuracy: 0.6562 - lr: 2.0000e-05\n",
      "Epoch 37/60\n",
      "448/448 [==============================] - ETA: 0s - loss: 0.6760 - accuracy: 0.7839\n",
      "Epoch 37: val_loss did not improve from 1.07266\n",
      "\n",
      "Epoch 37: ReduceLROnPlateau reducing learning rate to 3.999999898951501e-06.\n",
      "448/448 [==============================] - 963s 2s/step - loss: 0.6760 - accuracy: 0.7839 - val_loss: 1.0819 - val_accuracy: 0.6631 - lr: 2.0000e-05\n",
      "Epoch 38/60\n",
      "448/448 [==============================] - ETA: 0s - loss: 0.6580 - accuracy: 0.7931\n",
      "Epoch 38: val_loss did not improve from 1.07266\n",
      "448/448 [==============================] - 879s 2s/step - loss: 0.6580 - accuracy: 0.7931 - val_loss: 1.1001 - val_accuracy: 0.6632 - lr: 4.0000e-06\n",
      "Epoch 39/60\n",
      "448/448 [==============================] - ETA: 0s - loss: 0.6634 - accuracy: 0.7903\n",
      "Epoch 39: val_loss did not improve from 1.07266\n",
      "448/448 [==============================] - 893s 2s/step - loss: 0.6634 - accuracy: 0.7903 - val_loss: 1.0995 - val_accuracy: 0.6604 - lr: 4.0000e-06\n",
      "Epoch 40/60\n",
      "448/448 [==============================] - ETA: 0s - loss: 0.6550 - accuracy: 0.7884\n",
      "Epoch 40: val_loss did not improve from 1.07266\n",
      "448/448 [==============================] - 942s 2s/step - loss: 0.6550 - accuracy: 0.7884 - val_loss: 1.1020 - val_accuracy: 0.6596 - lr: 4.0000e-06\n",
      "Epoch 41/60\n",
      "448/448 [==============================] - ETA: 0s - loss: 0.6494 - accuracy: 0.7928\n",
      "Epoch 41: val_loss did not improve from 1.07266\n",
      "448/448 [==============================] - 1021s 2s/step - loss: 0.6494 - accuracy: 0.7928 - val_loss: 1.0976 - val_accuracy: 0.6621 - lr: 4.0000e-06\n",
      "Epoch 42/60\n",
      "448/448 [==============================] - ETA: 0s - loss: 0.6458 - accuracy: 0.7969\n",
      "Epoch 42: val_loss did not improve from 1.07266\n",
      "448/448 [==============================] - 845s 2s/step - loss: 0.6458 - accuracy: 0.7969 - val_loss: 1.1010 - val_accuracy: 0.6622 - lr: 4.0000e-06\n",
      "Epoch 43/60\n",
      "448/448 [==============================] - ETA: 0s - loss: 0.6511 - accuracy: 0.7925\n",
      "Epoch 43: val_loss did not improve from 1.07266\n",
      "\n",
      "Epoch 43: ReduceLROnPlateau reducing learning rate to 7.999999979801942e-07.\n",
      "448/448 [==============================] - 849s 2s/step - loss: 0.6511 - accuracy: 0.7925 - val_loss: 1.1073 - val_accuracy: 0.6603 - lr: 4.0000e-06\n",
      "Epoch 44/60\n",
      "448/448 [==============================] - ETA: 0s - loss: 0.6401 - accuracy: 0.7981\n",
      "Epoch 44: val_loss did not improve from 1.07266\n",
      "448/448 [==============================] - 838s 2s/step - loss: 0.6401 - accuracy: 0.7981 - val_loss: 1.1029 - val_accuracy: 0.6628 - lr: 8.0000e-07\n",
      "Epoch 45/60\n",
      "448/448 [==============================] - ETA: 0s - loss: 0.6459 - accuracy: 0.7965\n",
      "Epoch 45: val_loss did not improve from 1.07266\n",
      "448/448 [==============================] - 856s 2s/step - loss: 0.6459 - accuracy: 0.7965 - val_loss: 1.1034 - val_accuracy: 0.6628 - lr: 8.0000e-07\n",
      "Epoch 46/60\n",
      "448/448 [==============================] - ETA: 0s - loss: 0.6425 - accuracy: 0.7977\n",
      "Epoch 46: val_loss did not improve from 1.07266\n",
      "448/448 [==============================] - 901s 2s/step - loss: 0.6425 - accuracy: 0.7977 - val_loss: 1.1023 - val_accuracy: 0.6631 - lr: 8.0000e-07\n",
      "Epoch 47/60\n",
      "448/448 [==============================] - ETA: 0s - loss: 0.6440 - accuracy: 0.7932\n",
      "Epoch 47: val_loss did not improve from 1.07266\n",
      "448/448 [==============================] - 867s 2s/step - loss: 0.6440 - accuracy: 0.7932 - val_loss: 1.1030 - val_accuracy: 0.6627 - lr: 8.0000e-07\n",
      "Epoch 48/60\n",
      "448/448 [==============================] - ETA: 0s - loss: 0.6390 - accuracy: 0.7979\n",
      "Epoch 48: val_loss did not improve from 1.07266\n",
      "448/448 [==============================] - 830s 2s/step - loss: 0.6390 - accuracy: 0.7979 - val_loss: 1.1037 - val_accuracy: 0.6628 - lr: 8.0000e-07\n",
      "Epoch 49/60\n",
      "448/448 [==============================] - ETA: 0s - loss: 0.6357 - accuracy: 0.7979\n",
      "Epoch 49: val_loss did not improve from 1.07266\n",
      "\n",
      "Epoch 49: ReduceLROnPlateau reducing learning rate to 1.600000018697756e-07.\n",
      "448/448 [==============================] - 834s 2s/step - loss: 0.6357 - accuracy: 0.7979 - val_loss: 1.1044 - val_accuracy: 0.6628 - lr: 8.0000e-07\n",
      "Epoch 50/60\n",
      "448/448 [==============================] - ETA: 0s - loss: 0.6439 - accuracy: 0.7953\n",
      "Epoch 50: val_loss did not improve from 1.07266\n",
      "448/448 [==============================] - 848s 2s/step - loss: 0.6439 - accuracy: 0.7953 - val_loss: 1.1032 - val_accuracy: 0.6639 - lr: 1.6000e-07\n",
      "Epoch 51/60\n",
      "448/448 [==============================] - ETA: 0s - loss: 0.6480 - accuracy: 0.7935\n",
      "Epoch 51: val_loss did not improve from 1.07266\n",
      "448/448 [==============================] - 1285s 3s/step - loss: 0.6480 - accuracy: 0.7935 - val_loss: 1.1046 - val_accuracy: 0.6635 - lr: 1.6000e-07\n",
      "Epoch 52/60\n",
      "448/448 [==============================] - ETA: 0s - loss: 0.6387 - accuracy: 0.8013\n",
      "Epoch 52: val_loss did not improve from 1.07266\n",
      "448/448 [==============================] - 1084s 2s/step - loss: 0.6387 - accuracy: 0.8013 - val_loss: 1.1028 - val_accuracy: 0.6635 - lr: 1.6000e-07\n",
      "Epoch 53/60\n",
      "448/448 [==============================] - ETA: 0s - loss: 0.6391 - accuracy: 0.7973\n",
      "Epoch 53: val_loss did not improve from 1.07266\n",
      "448/448 [==============================] - 1052s 2s/step - loss: 0.6391 - accuracy: 0.7973 - val_loss: 1.1051 - val_accuracy: 0.6638 - lr: 1.6000e-07\n",
      "Epoch 54/60\n",
      "448/448 [==============================] - ETA: 0s - loss: 0.6395 - accuracy: 0.7979\n",
      "Epoch 54: val_loss did not improve from 1.07266\n",
      "448/448 [==============================] - 857s 2s/step - loss: 0.6395 - accuracy: 0.7979 - val_loss: 1.1043 - val_accuracy: 0.6631 - lr: 1.6000e-07\n",
      "Epoch 55/60\n",
      "448/448 [==============================] - ETA: 0s - loss: 0.6415 - accuracy: 0.7973\n",
      "Epoch 55: val_loss did not improve from 1.07266\n",
      "\n",
      "Epoch 55: ReduceLROnPlateau reducing learning rate to 3.199999980552093e-08.\n",
      "448/448 [==============================] - 888s 2s/step - loss: 0.6415 - accuracy: 0.7973 - val_loss: 1.1044 - val_accuracy: 0.6627 - lr: 1.6000e-07\n",
      "Epoch 56/60\n",
      "448/448 [==============================] - ETA: 0s - loss: 0.6413 - accuracy: 0.7972\n",
      "Epoch 56: val_loss did not improve from 1.07266\n",
      "448/448 [==============================] - 834s 2s/step - loss: 0.6413 - accuracy: 0.7972 - val_loss: 1.1028 - val_accuracy: 0.6635 - lr: 3.2000e-08\n",
      "Epoch 57/60\n",
      "448/448 [==============================] - ETA: 0s - loss: 0.6461 - accuracy: 0.7965\n",
      "Epoch 57: val_loss did not improve from 1.07266\n",
      "448/448 [==============================] - 825s 2s/step - loss: 0.6461 - accuracy: 0.7965 - val_loss: 1.1037 - val_accuracy: 0.6634 - lr: 3.2000e-08\n",
      "Epoch 58/60\n",
      "448/448 [==============================] - ETA: 0s - loss: 0.6348 - accuracy: 0.7987\n",
      "Epoch 58: val_loss did not improve from 1.07266\n",
      "448/448 [==============================] - 840s 2s/step - loss: 0.6348 - accuracy: 0.7987 - val_loss: 1.1036 - val_accuracy: 0.6635 - lr: 3.2000e-08\n",
      "Epoch 59/60\n",
      "448/448 [==============================] - ETA: 0s - loss: 0.6425 - accuracy: 0.7971\n",
      "Epoch 59: val_loss did not improve from 1.07266\n",
      "448/448 [==============================] - 865s 2s/step - loss: 0.6425 - accuracy: 0.7971 - val_loss: 1.1037 - val_accuracy: 0.6629 - lr: 3.2000e-08\n",
      "Epoch 60/60\n",
      "448/448 [==============================] - ETA: 0s - loss: 0.6402 - accuracy: 0.7997\n",
      "Epoch 60: val_loss did not improve from 1.07266\n",
      "448/448 [==============================] - 831s 2s/step - loss: 0.6402 - accuracy: 0.7997 - val_loss: 1.1046 - val_accuracy: 0.6641 - lr: 3.2000e-08\n"
     ]
    }
   ],
   "source": [
    "steps_per_epoch = training_set.n // training_set.batch_size\n",
    "validation_steps = test_set.n // test_set.batch_size\n",
    "\n",
    "hist = cnn_model.fit(x=training_set,\n",
    "                 validation_data=test_set,\n",
    "                 epochs=60,\n",
    "                 callbacks=callbacks,\n",
    "                 steps_per_epoch=steps_per_epoch,\n",
    "                 validation_steps=validation_steps)"
   ]
  },
  {
   "attachments": {},
   "cell_type": "markdown",
   "metadata": {
    "papermill": {
     "duration": 11.092708,
     "end_time": "2020-10-08T09:04:56.961972",
     "exception": false,
     "start_time": "2020-10-08T09:04:45.869264",
     "status": "completed"
    },
    "tags": []
   },
   "source": [
    "### Model evaluation"
   ]
  },
  {
   "cell_type": "code",
   "execution_count": null,
   "metadata": {},
   "outputs": [
    {
     "name": "stdout",
     "output_type": "stream",
     "text": [
      "449/449 [==============================] - 30s 67ms/step - loss: 0.3737 - accuracy: 0.9103\n",
      "113/113 [==============================] - 4s 38ms/step - loss: 1.1666 - accuracy: 0.6658\n",
      "final train accuracy = 91.03 , validation accuracy = 66.58\n"
     ]
    }
   ],
   "source": [
    "train_loss, train_accu = fernet.evaluate(training_set)\n",
    "test_loss, test_accu = fernet.evaluate(test_set)\n",
    "print(\"final train accuracy = {:.2f} , validation accuracy = {:.2f}\".format(train_accu*100, test_accu*100))"
   ]
  }
 ],
 "metadata": {
  "kernelspec": {
   "display_name": "Python 3",
   "language": "python",
   "name": "python3"
  },
  "language_info": {
   "codemirror_mode": {
    "name": "ipython",
    "version": 3
   },
   "file_extension": ".py",
   "mimetype": "text/x-python",
   "name": "python",
   "nbconvert_exporter": "python",
   "pygments_lexer": "ipython3",
   "version": "3.10.6"
  },
  "papermill": {
   "duration": 2830.346368,
   "end_time": "2020-10-08T09:08:37.334816",
   "environment_variables": {},
   "exception": null,
   "input_path": "__notebook__.ipynb",
   "output_path": "__notebook__.ipynb",
   "parameters": {},
   "start_time": "2020-10-08T08:21:26.988448",
   "version": "2.1.0"
  }
 },
 "nbformat": 4,
 "nbformat_minor": 4
}
